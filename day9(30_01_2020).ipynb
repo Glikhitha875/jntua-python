{
  "nbformat": 4,
  "nbformat_minor": 0,
  "metadata": {
    "colab": {
      "name": "day9(30-01-2020).ipynb",
      "provenance": [],
      "collapsed_sections": [],
      "authorship_tag": "ABX9TyOcKZIPRVfCWImm3mpGkovM",
      "include_colab_link": true
    },
    "kernelspec": {
      "name": "python3",
      "display_name": "Python 3"
    }
  },
  "cells": [
    {
      "cell_type": "markdown",
      "metadata": {
        "id": "view-in-github",
        "colab_type": "text"
      },
      "source": [
        "<a href=\"https://colab.research.google.com/github/Glikhitha875/jntua-python/blob/master/day9(30_01_2020).ipynb\" target=\"_parent\"><img src=\"https://colab.research.google.com/assets/colab-badge.svg\" alt=\"Open In Colab\"/></a>"
      ]
    },
    {
      "cell_type": "markdown",
      "metadata": {
        "id": "E3xlpkjl9yJA",
        "colab_type": "text"
      },
      "source": [
        "#MarkDown\n",
        "##MarkDown\n",
        "###markdown\n"
      ]
    },
    {
      "cell_type": "markdown",
      "metadata": {
        "id": "dVPlNwh8-ndm",
        "colab_type": "text"
      },
      "source": [
        "**Points**\n",
        "\n",
        "*Points*\n",
        "\n",
        "***Points***\n"
      ]
    },
    {
      "cell_type": "markdown",
      "metadata": {
        "id": "EYLUfNNv_kcG",
        "colab_type": "text"
      },
      "source": [
        ""
      ]
    },
    {
      "cell_type": "code",
      "metadata": {
        "id": "DKU-oF1u_zPb",
        "colab_type": "code",
        "colab": {
          "base_uri": "https://localhost:8080/",
          "height": 34
        },
        "outputId": "946864fc-68cb-49dc-813b-d72812d03c60"
      },
      "source": [
        "print(\"hello world\")\n"
      ],
      "execution_count": 1,
      "outputs": [
        {
          "output_type": "stream",
          "text": [
            "hello world\n"
          ],
          "name": "stdout"
        }
      ]
    },
    {
      "cell_type": "markdown",
      "metadata": {
        "id": "Gho2xpAcA6O1",
        "colab_type": "text"
      },
      "source": [
        "***Adding links to markdown***\n",
        "\n",
        "[site](https://www.jntua.ac.in/)"
      ]
    },
    {
      "cell_type": "markdown",
      "metadata": {
        "id": "OwhdXrJUB3Yi",
        "colab_type": "text"
      },
      "source": [
        "***Inserting image***\n",
        "\n",
        "![text](https://www.jntua.ac.in/icon/jntua.jpg)\n"
      ]
    },
    {
      "cell_type": "markdown",
      "metadata": {
        "id": "xZMUeNNQCczc",
        "colab_type": "text"
      },
      "source": [
        ""
      ]
    },
    {
      "cell_type": "code",
      "metadata": {
        "id": "V7nAp6TxCsG-",
        "colab_type": "code",
        "colab": {
          "base_uri": "https://localhost:8080/",
          "height": 50
        },
        "outputId": "c69d936d-e8a6-4296-ecbc-ae6ee4bb4a25"
      },
      "source": [
        "print(\"hello world!\")\n",
        "print(2*8)"
      ],
      "execution_count": 3,
      "outputs": [
        {
          "output_type": "stream",
          "text": [
            "hello world!\n",
            "16\n"
          ],
          "name": "stdout"
        }
      ]
    },
    {
      "cell_type": "code",
      "metadata": {
        "id": "xlV6k1t1G5Om",
        "colab_type": "code",
        "colab": {
          "base_uri": "https://localhost:8080/",
          "height": 50
        },
        "outputId": "51fd4a09-7c1e-403b-db28-304a3fdf6fd5"
      },
      "source": [
        "print(\"hello , jntua\")\n",
        "print(\"hello,jntua\",\"|||\",\"chemical\",\"|||\",\"cse\",\"|||\",\"mca\")"
      ],
      "execution_count": 6,
      "outputs": [
        {
          "output_type": "stream",
          "text": [
            "hello , jntua\n",
            "hello,jntua ||| chemical ||| cse ||| mca\n"
          ],
          "name": "stdout"
        }
      ]
    },
    {
      "cell_type": "markdown",
      "metadata": {
        "id": "ZSAg6n-VI7tl",
        "colab_type": "text"
      },
      "source": [
        "***Assignment***"
      ]
    },
    {
      "cell_type": "code",
      "metadata": {
        "id": "hXOJ_MMhJBpS",
        "colab_type": "code",
        "colab": {
          "base_uri": "https://localhost:8080/",
          "height": 67
        },
        "outputId": "c658f0ad-9a50-4b96-dadd-c7188de0ab17"
      },
      "source": [
        "n1=100 #single variable assignment\n",
        "print(n1)\n",
        "a=b=c=10 #multi variable assignment\n",
        "print(a,b,c)\n",
        "a1,b1,c1=100,200,300 #multiple variable assignment with different values\n",
        "print(a1,b1,c1)"
      ],
      "execution_count": 12,
      "outputs": [
        {
          "output_type": "stream",
          "text": [
            "100\n",
            "10 10 10\n",
            "100 200 300\n"
          ],
          "name": "stdout"
        }
      ]
    },
    {
      "cell_type": "markdown",
      "metadata": {
        "id": "h6rMI512Kl2I",
        "colab_type": "text"
      },
      "source": [
        "#Data types and converions\n",
        "\n",
        "\n",
        "*   int\n",
        "*   float\n",
        "*   string\n",
        "\n",
        "\n",
        "\n"
      ]
    },
    {
      "cell_type": "code",
      "metadata": {
        "id": "NS35nigfLDat",
        "colab_type": "code",
        "colab": {
          "base_uri": "https://localhost:8080/",
          "height": 67
        },
        "outputId": "ddd0c4c1-8653-49cd-de80-a15c7d8d6d81"
      },
      "source": [
        "a1=100\n",
        "s1=10.2\n",
        "s2=\"python\"\n",
        "print(type(a1))\n",
        "print(type(s1))\n",
        "print(type(s2))"
      ],
      "execution_count": 13,
      "outputs": [
        {
          "output_type": "stream",
          "text": [
            "<class 'int'>\n",
            "<class 'float'>\n",
            "<class 'str'>\n"
          ],
          "name": "stdout"
        }
      ]
    },
    {
      "cell_type": "code",
      "metadata": {
        "id": "B0Eun359L_Ex",
        "colab_type": "code",
        "colab": {
          "base_uri": "https://localhost:8080/",
          "height": 101
        },
        "outputId": "2757c89d-8e7b-4c8d-8852-bf4fd5e18633"
      },
      "source": [
        "i=100\n",
        "print(type(i))\n",
        "s1=str(i)\n",
        "print(s1)\n",
        "print(type(s1))\n",
        "s2=float(i)\n",
        "print(s2)\n",
        "print(type(s2))\n"
      ],
      "execution_count": 15,
      "outputs": [
        {
          "output_type": "stream",
          "text": [
            "<class 'int'>\n",
            "100\n",
            "<class 'str'>\n",
            "100.0\n",
            "<class 'float'>\n"
          ],
          "name": "stdout"
        }
      ]
    },
    {
      "cell_type": "code",
      "metadata": {
        "id": "K_Di62k-M_NP",
        "colab_type": "code",
        "colab": {
          "base_uri": "https://localhost:8080/",
          "height": 50
        },
        "outputId": "54c3867e-f2df-459b-f025-4f7c4460b2be"
      },
      "source": [
        "#length\n",
        "a=123456\n",
        "s1=str(a)\n",
        "print(s1)\n",
        "print(len(s1))"
      ],
      "execution_count": 17,
      "outputs": [
        {
          "output_type": "stream",
          "text": [
            "123456\n",
            "6\n"
          ],
          "name": "stdout"
        }
      ]
    },
    {
      "cell_type": "markdown",
      "metadata": {
        "id": "ENC8QFdsNina",
        "colab_type": "text"
      },
      "source": [
        "#Reading input from user using input function"
      ]
    },
    {
      "cell_type": "code",
      "metadata": {
        "id": "QNFU6sAbNt_J",
        "colab_type": "code",
        "colab": {
          "base_uri": "https://localhost:8080/",
          "height": 67
        },
        "outputId": "dd2eb6bd-9677-4e6e-e1fb-4ca8fba52225"
      },
      "source": [
        "a=input(\"enter ur  name :\")\n",
        "print(a)\n",
        "print(type(a))"
      ],
      "execution_count": 20,
      "outputs": [
        {
          "output_type": "stream",
          "text": [
            "enter ur  name :likhitha\n",
            "likhitha\n",
            "<class 'str'>\n"
          ],
          "name": "stdout"
        }
      ]
    },
    {
      "cell_type": "code",
      "metadata": {
        "id": "yOXNcYr2OWFU",
        "colab_type": "code",
        "colab": {
          "base_uri": "https://localhost:8080/",
          "height": 67
        },
        "outputId": "f83e5878-1fc1-4ac5-8c93-65c8abddcc29"
      },
      "source": [
        "b=eval(input(\"enter ur age :\"))\n",
        "print(b)\n",
        "print(type(b))"
      ],
      "execution_count": 24,
      "outputs": [
        {
          "output_type": "stream",
          "text": [
            "enter ur age :19\n",
            "19\n",
            "<class 'int'>\n"
          ],
          "name": "stdout"
        }
      ]
    },
    {
      "cell_type": "markdown",
      "metadata": {
        "id": "6z-a_eB_PKQ0",
        "colab_type": "text"
      },
      "source": [
        "#Operators\n",
        " --> operator is a symbol used to perform a specific kind of operations\n",
        "\n",
        "\n"
      ]
    },
    {
      "cell_type": "markdown",
      "metadata": {
        "id": "oJa2qSODPm-I",
        "colab_type": "text"
      },
      "source": [
        "#Arithmetic operators\n",
        "\n",
        "\n",
        "*   + \n",
        "*   -\n",
        "*   *\n",
        "*   /\n",
        "*   %\n",
        "*   //\n",
        "\n",
        "\n",
        "\n",
        "\n",
        "\n"
      ]
    },
    {
      "cell_type": "code",
      "metadata": {
        "id": "qlBkvVMEP_vn",
        "colab_type": "code",
        "colab": {
          "base_uri": "https://localhost:8080/",
          "height": 151
        },
        "outputId": "000b4e52-69f7-48fd-80d0-c45965aa1516"
      },
      "source": [
        "a=143\n",
        "print(a+10)\n",
        "print(a-10)\n",
        "print(a*10)\n",
        "print((a/10))\n",
        "print(a%10)\n",
        "print(a//10)\n",
        "b=eval(input(\"enter b :\"))\n",
        "print(b**2)"
      ],
      "execution_count": 28,
      "outputs": [
        {
          "output_type": "stream",
          "text": [
            "153\n",
            "133\n",
            "1430\n",
            "14.3\n",
            "3\n",
            "14\n",
            "enter b :4\n",
            "16\n"
          ],
          "name": "stdout"
        }
      ]
    },
    {
      "cell_type": "markdown",
      "metadata": {
        "id": "Tf1pVFo3SIcb",
        "colab_type": "text"
      },
      "source": [
        "#Relational operators\n",
        "-  <\n",
        "-  <=\n",
        "-  '>'\n",
        "-  '>='\n",
        "-  =\n",
        "-  ==\n",
        "-  !=\n"
      ]
    },
    {
      "cell_type": "code",
      "metadata": {
        "id": "2eY5wGMVSfg8",
        "colab_type": "code",
        "colab": {
          "base_uri": "https://localhost:8080/",
          "height": 34
        },
        "outputId": "f33acd52-457c-4e04-d268-58b9c2168b4d"
      },
      "source": [
        "x1=10\n",
        "s1=x1>9\n",
        "print(s1)"
      ],
      "execution_count": 30,
      "outputs": [
        {
          "output_type": "stream",
          "text": [
            "True\n"
          ],
          "name": "stdout"
        }
      ]
    },
    {
      "cell_type": "markdown",
      "metadata": {
        "id": "FmgbSLXiTC0J",
        "colab_type": "text"
      },
      "source": [
        "#Logical operators\n",
        "-  and\n",
        "-  or\n",
        "-  not"
      ]
    },
    {
      "cell_type": "code",
      "metadata": {
        "id": "vbalb72BTUS0",
        "colab_type": "code",
        "colab": {
          "base_uri": "https://localhost:8080/",
          "height": 67
        },
        "outputId": "29b8b58f-bf6d-45b8-aae3-49f5ce0ac92d"
      },
      "source": [
        "i=100\n",
        "a1=i>500 and i<800\n",
        "a2=i>20 or i<200\n",
        "print(a1 , a2 )\n",
        "print(a1 and a2)\n",
        "print(a1 or a2)"
      ],
      "execution_count": 39,
      "outputs": [
        {
          "output_type": "stream",
          "text": [
            "False True False\n",
            "False\n",
            "True\n"
          ],
          "name": "stdout"
        }
      ]
    },
    {
      "cell_type": "markdown",
      "metadata": {
        "id": "xj3MJmjTU1HT",
        "colab_type": "text"
      },
      "source": [
        "#control flow statements \n",
        "-  conditional statements\n",
        "-  looping statements"
      ]
    },
    {
      "cell_type": "markdown",
      "metadata": {
        "id": "XBwN5d8tVVZ2",
        "colab_type": "text"
      },
      "source": [
        "#if else statements\n",
        "-  syntax \n",
        "    -  if(boolean_condition):\n",
        "    -  statements\n",
        "    -  else:\n",
        "    -  statements"
      ]
    },
    {
      "cell_type": "code",
      "metadata": {
        "id": "XtSQOw4FVx5x",
        "colab_type": "code",
        "colab": {
          "base_uri": "https://localhost:8080/",
          "height": 50
        },
        "outputId": "fe10e505-5bc1-4c78-f010-1dfaceb1425f"
      },
      "source": [
        "#to check whether a given number is even or odd\n",
        "n=int(input(\"enter n : \"))\n",
        "if(n%2==0):\n",
        "  print(n,\" is a even number\")\n",
        "else:\n",
        "  print(n,\" is a odd number\")"
      ],
      "execution_count": 41,
      "outputs": [
        {
          "output_type": "stream",
          "text": [
            "enter n : 50\n",
            "50  is a even number\n"
          ],
          "name": "stdout"
        }
      ]
    },
    {
      "cell_type": "code",
      "metadata": {
        "id": "jgRC5idWW-6X",
        "colab_type": "code",
        "colab": {
          "base_uri": "https://localhost:8080/",
          "height": 50
        },
        "outputId": "b7d411e5-8a49-47fa-a426-f970c3f8fab0"
      },
      "source": [
        "#to check given number is perfectly multiples of 3 and 5\n",
        "n=int(input(\"enter a number :\"))\n",
        "if (n%3==0 and n%5==0):\n",
        "  print(n ,\" is a multiple of 3 and 5 \")\n",
        "else:\n",
        "  print(n ,\" is not a multiple of 3 and 5 \")\n"
      ],
      "execution_count": 50,
      "outputs": [
        {
          "output_type": "stream",
          "text": [
            "enter a number :36\n",
            "36  is not a multiple of 3 and 5 \n"
          ],
          "name": "stdout"
        }
      ]
    },
    {
      "cell_type": "code",
      "metadata": {
        "id": "1uIEy3gkY8BX",
        "colab_type": "code",
        "colab": {
          "base_uri": "https://localhost:8080/",
          "height": 50
        },
        "outputId": "7ac56d09-0c38-4682-cfc6-d4de05487f00"
      },
      "source": [
        "#Check that given number is positive ,negative or zero\n",
        "n=int(input(\"enter number :\"))\n",
        "if(n>0):\n",
        "  print(n,\" is positive\")\n",
        "elif(n<0):\n",
        "  print(n,\"is negative\")\n",
        "else:\n",
        "  print(n,\"is zero\")"
      ],
      "execution_count": 54,
      "outputs": [
        {
          "output_type": "stream",
          "text": [
            "enter number :0\n",
            "0 is zero\n"
          ],
          "name": "stdout"
        }
      ]
    },
    {
      "cell_type": "code",
      "metadata": {
        "id": "s2xdGFk9aNh1",
        "colab_type": "code",
        "colab": {
          "base_uri": "https://localhost:8080/",
          "height": 84
        },
        "outputId": "0be2632b-4279-4220-9b11-54ea0f8b4dfa"
      },
      "source": [
        "#largest number of given three numbers\n",
        "a=int(input(\"enter a :\"))\n",
        "b=int(input(\"enter b :\"))\n",
        "c=int(input(\"enter c :\"))\n",
        "if(a>=b and a>=c):\n",
        "  print(a ,\" is largest number\")\n",
        "elif(b>=c):\n",
        "  print(b,\"is largest number\")\n",
        "else:\n",
        "  print(c,\"is largest number\")"
      ],
      "execution_count": 59,
      "outputs": [
        {
          "output_type": "stream",
          "text": [
            "enter a :3\n",
            "enter b :5\n",
            "enter c :7\n",
            "7 is largest number\n"
          ],
          "name": "stdout"
        }
      ]
    },
    {
      "cell_type": "code",
      "metadata": {
        "id": "GrAn2HEDde0k",
        "colab_type": "code",
        "colab": {
          "base_uri": "https://localhost:8080/",
          "height": 50
        },
        "outputId": "983b02ad-d6ee-4274-b9c1-d9a3280810f9"
      },
      "source": [
        "#find leap year\n",
        "n=int(input(\"enter year : \"))\n",
        "if(n%4==0 and (n%100!=0 or n%400==0)):\n",
        "  print(n,\"is a leap year\")\n",
        "else:\n",
        "  print(n,\" is not a leap year\")"
      ],
      "execution_count": 69,
      "outputs": [
        {
          "output_type": "stream",
          "text": [
            "enter year : 2020\n",
            "2020 is a leap year\n"
          ],
          "name": "stdout"
        }
      ]
    }
  ]
}